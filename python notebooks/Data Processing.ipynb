{
 "cells": [
  {
   "cell_type": "code",
   "execution_count": null,
   "metadata": {
    "id": "VYc3q8rsCHJK"
   },
   "outputs": [],
   "source": [
    "# Lib to work with dataframes\n",
    "import pandas as pd\n",
    "# Command to not show some warnings\n",
    "pd.options.mode.chained_assignment = None\n",
    "# Lib to do calculations\n",
    "import numpy as np"
   ]
  },
  {
   "cell_type": "code",
   "execution_count": null,
   "metadata": {
    "id": "dDb2agEDCHJL"
   },
   "outputs": [],
   "source": [
    "# Read the streamings's datasets\n",
    "df_prime = pd.read_csv('df_prime.csv', sep=';')\n",
    "df_disney_plus = pd.read_csv('df_disney_plus.csv', sep=';')\n",
    "df_hbo_max = pd.read_csv('df_hbo_max.csv', sep=';')\n",
    "df_hulu = pd.read_csv('df_hulu.csv', sep=';')\n",
    "df_netflix = pd.read_csv('df_netflix.csv', sep=';')"
   ]
  },
  {
   "cell_type": "code",
   "execution_count": null,
   "metadata": {},
   "outputs": [],
   "source": [
    "# Creat a new column in each dataset to identify each one when merging then\n",
    "df_netflix['streaming'] = 'netflix'\n",
    "df_prime['streaming'] = 'prime'\n",
    "df_disney_plus['streaming'] = 'disney +'\n",
    "df_hulu['streaming'] = 'hulu'\n",
    "df_hbo_max['streaming'] = 'hbo max'"
   ]
  },
  {
   "cell_type": "code",
   "execution_count": null,
   "metadata": {
    "id": "bmD_ENsA9qTh"
   },
   "outputs": [],
   "source": [
    "# Merge the datasets\n",
    "df = pd.concat([df_netflix, df_prime, df_disney_plus, df_hulu, df_hbo_max])"
   ]
  },
  {
   "cell_type": "code",
   "execution_count": null,
   "metadata": {
    "id": "FQM39KKcE5OZ"
   },
   "outputs": [],
   "source": [
    "# Creating a new index for the entire merged dataset and dropping the old one\n",
    "df.reset_index(inplace=True)\n",
    "df.drop(columns='index', inplace=True)"
   ]
  },
  {
   "cell_type": "code",
   "execution_count": null,
   "metadata": {},
   "outputs": [],
   "source": [
    "# Read the imdb's datasets\n",
    "titles_imdb = pd.read_csv('title.basics.tsv.gz', compression='gzip', sep='\\t')\n",
    "ranking_imdb = pd.read_csv('title.ratings.tsv.gz', compression='gzip', sep='\\t')"
   ]
  },
  {
   "cell_type": "markdown",
   "metadata": {},
   "source": [
    "### Look the datas"
   ]
  },
  {
   "cell_type": "code",
   "execution_count": null,
   "metadata": {},
   "outputs": [],
   "source": [
    "df.info()"
   ]
  },
  {
   "cell_type": "code",
   "execution_count": null,
   "metadata": {},
   "outputs": [],
   "source": [
    "titles_imdb.info()"
   ]
  },
  {
   "cell_type": "code",
   "execution_count": null,
   "metadata": {},
   "outputs": [],
   "source": [
    "ranking_imdb.info()"
   ]
  },
  {
   "cell_type": "markdown",
   "metadata": {},
   "source": [
    "### Searching and cleaning the unnecessary datas"
   ]
  },
  {
   "cell_type": "code",
   "execution_count": null,
   "metadata": {},
   "outputs": [],
   "source": [
    "# Dropping titles with too small number of votes\n",
    "ranking_imdb.drop(ranking_imdb[ranking_imdb.numVotes < 2000].index, inplace=True)"
   ]
  },
  {
   "cell_type": "code",
   "execution_count": null,
   "metadata": {},
   "outputs": [],
   "source": [
    "titles_imdb.titleType.unique()"
   ]
  },
  {
   "cell_type": "code",
   "execution_count": null,
   "metadata": {},
   "outputs": [],
   "source": [
    "titles_imdb = titles_imdb[titles_imdb.titleType != 'videoGame']"
   ]
  },
  {
   "cell_type": "code",
   "execution_count": null,
   "metadata": {},
   "outputs": [],
   "source": [
    "titles_imdb.startYear.unique()"
   ]
  },
  {
   "cell_type": "code",
   "execution_count": null,
   "metadata": {},
   "outputs": [],
   "source": [
    "titles_imdb.drop(titles_imdb[titles_imdb.startYear == '\\\\N'].index, inplace=True)"
   ]
  },
  {
   "cell_type": "code",
   "execution_count": null,
   "metadata": {},
   "outputs": [],
   "source": [
    "titles_imdb.startYear = titles_imdb.startYear.astype('int')"
   ]
  },
  {
   "cell_type": "markdown",
   "metadata": {},
   "source": [
    "### Draw attention the large number of titles with null values in the streaming dataset"
   ]
  },
  {
   "cell_type": "markdown",
   "metadata": {},
   "source": [
    "#### To handle with this null values, the best way is get the values from the imdb's dataset. However, these datasets are very large and this process can take a long time. To reduce the time it is good to divide the datasets by a common attribute, in this case I choose the year."
   ]
  },
  {
   "cell_type": "code",
   "execution_count": null,
   "metadata": {},
   "outputs": [],
   "source": [
    "df.rename(columns={'release_year' : 'startYear'}, inplace=True)"
   ]
  },
  {
   "cell_type": "code",
   "execution_count": null,
   "metadata": {},
   "outputs": [],
   "source": [
    "df.info()"
   ]
  },
  {
   "cell_type": "code",
   "execution_count": null,
   "metadata": {},
   "outputs": [],
   "source": [
    "df.startYear.sort_values()"
   ]
  },
  {
   "cell_type": "code",
   "execution_count": null,
   "metadata": {},
   "outputs": [],
   "source": [
    "first_year = 1920\n",
    "first_qrt = df.startYear.quantile(q=.25)\n",
    "second_qrt = df.startYear.quantile()\n",
    "third_qrt = df.startYear.quantile(q=.75)"
   ]
  },
  {
   "cell_type": "code",
   "execution_count": null,
   "metadata": {},
   "outputs": [],
   "source": [
    "def split_dataset(dataset):\n",
    "    dataset_first_qrt = dataset[(dataset.startYear >= first_year) & (dataset.startYear < first_qrt)]\n",
    "    dataset_second_qrt = dataset[(dataset.startYear >= first_qrt) & (dataset.startYear < second_qrt)]\n",
    "    dataset_third_qrt = dataset[(dataset.startYear >= second_qrt) & (dataset.startYear < third_qrt)]\n",
    "    dataset_last_qrt = dataset[dataset.startYear >= third_qrt]\n",
    "    return dataset_first_qrt, dataset_second_qrt, dataset_third_qrt, dataset_last_qrt"
   ]
  },
  {
   "cell_type": "code",
   "execution_count": null,
   "metadata": {},
   "outputs": [],
   "source": [
    "df_first_qrt, df_second_qrt, df_third_qrt, df_last_qrt = split_dataset(df)"
   ]
  },
  {
   "cell_type": "code",
   "execution_count": null,
   "metadata": {},
   "outputs": [],
   "source": [
    "titles_imdb_first_qrt, titles_imdb_second_qrt, titles_imdb_third_qrt, titles_imdb_last_qrt = split_dataset(titles_imdb)"
   ]
  },
  {
   "cell_type": "code",
   "execution_count": null,
   "metadata": {},
   "outputs": [],
   "source": [
    "def get_tconst(df_dataset, titles_imdb_dataset):\n",
    "    tconst = []\n",
    "    n = 1\n",
    "    for i in df_dataset.index:\n",
    "        print(round(n/len(df_dataset) * 100, 2), '%')\n",
    "        n += 1\n",
    "        title = df_dataset.title[i]\n",
    "        year = df_dataset.startYear[i]\n",
    "        id_imdb = titles_imdb_dataset.query('originalTitle == @title | primaryTitle == @title & startYear == @year')['tconst'].values\n",
    "        for j in range(len(id_imdb)):\n",
    "            if id_imdb[j] in ranking_imdb.tconst.values:\n",
    "                tconst.append(id_imdb[j])\n",
    "    return tconst"
   ]
  },
  {
   "cell_type": "code",
   "execution_count": null,
   "metadata": {},
   "outputs": [],
   "source": [
    "tconst_first_qrt = get_tconst(df_first_qrt, titles_imdb_first_qrt)"
   ]
  },
  {
   "cell_type": "code",
   "execution_count": null,
   "metadata": {},
   "outputs": [],
   "source": [
    "tconst_second_qrt = get_tconst(df_second_qrt, titles_imdb_second_qrt)"
   ]
  },
  {
   "cell_type": "code",
   "execution_count": null,
   "metadata": {},
   "outputs": [],
   "source": [
    "tconst_third_qrt = get_tconst(df_third_qrt, titles_imdb_third_qrt)"
   ]
  },
  {
   "cell_type": "code",
   "execution_count": null,
   "metadata": {},
   "outputs": [],
   "source": [
    "tconst_last_qrt = get_tconst(df_last_qrt, titles_imdb_last_qrt)"
   ]
  },
  {
   "cell_type": "code",
   "execution_count": null,
   "metadata": {},
   "outputs": [],
   "source": []
  },
  {
   "cell_type": "code",
   "execution_count": null,
   "metadata": {},
   "outputs": [],
   "source": [
    "def add_score(tconst_list, titles_imdb_qrt):\n",
    "    n = 1\n",
    "    titles_imdb_qrt['averageRating'] = 0\n",
    "    for tconst in tconst_list:\n",
    "        print(round(n/len(tconst_list) * 100, 2), '%')\n",
    "        n += 1\n",
    "        id_title = titles_imdb_qrt[titles_imdb_qrt.tconst == tconst].index[0] \n",
    "        id_score = ranking_imdb[ranking_imdb.tconst == tconst].index[0]\n",
    "        titles_imdb_qrt['averageRating'][id_title] = ranking_imdb['averageRating'][id_score]\n",
    "    return titles_imdb_qrt"
   ]
  },
  {
   "cell_type": "code",
   "execution_count": null,
   "metadata": {},
   "outputs": [],
   "source": [
    "titles_imdb_first_qrt = add_score(tconst_first_qrt, titles_imdb_first_qrt)"
   ]
  },
  {
   "cell_type": "code",
   "execution_count": null,
   "metadata": {},
   "outputs": [],
   "source": [
    "titles_imdb_second_qrt = add_score(tconst_second_qrt, titles_imdb_second_qrt)"
   ]
  },
  {
   "cell_type": "code",
   "execution_count": null,
   "metadata": {},
   "outputs": [],
   "source": [
    "titles_imdb_third_qrt = add_score(tconst_third_qrt, titles_imdb_third_qrt)"
   ]
  },
  {
   "cell_type": "code",
   "execution_count": null,
   "metadata": {},
   "outputs": [],
   "source": [
    "titles_imdb_last_qrt = add_score(tconst_last_qrt, titles_imdb_last_qrt)"
   ]
  },
  {
   "cell_type": "code",
   "execution_count": null,
   "metadata": {},
   "outputs": [],
   "source": []
  },
  {
   "cell_type": "code",
   "execution_count": null,
   "metadata": {},
   "outputs": [],
   "source": [
    "titles_imdb_first_qrt = titles_imdb_first_qrt[titles_imdb_first_qrt.averageRating != 0]\n",
    "titles_imdb_first_qrt"
   ]
  },
  {
   "cell_type": "code",
   "execution_count": null,
   "metadata": {},
   "outputs": [],
   "source": [
    "titles_imdb_second_qrt = titles_imdb_second_qrt[titles_imdb_second_qrt.averageRating != 0]\n",
    "titles_imdb_second_qrt"
   ]
  },
  {
   "cell_type": "code",
   "execution_count": null,
   "metadata": {},
   "outputs": [],
   "source": [
    "titles_imdb_third_qrt = titles_imdb_third_qrt[titles_imdb_third_qrt.averageRating != 0]\n",
    "titles_imdb_third_qrt"
   ]
  },
  {
   "cell_type": "code",
   "execution_count": null,
   "metadata": {},
   "outputs": [],
   "source": [
    "titles_imdb_last_qrt = titles_imdb_last_qrt[titles_imdb_last_qrt.averageRating != 0]\n",
    "titles_imdb_last_qrt"
   ]
  },
  {
   "cell_type": "code",
   "execution_count": null,
   "metadata": {},
   "outputs": [],
   "source": [
    "titles_imdb_with_scores = pd.concat([titles_imdb_first_qrt, titles_imdb_second_qrt, titles_imdb_third_qrt, titles_imdb_last_qrt])"
   ]
  },
  {
   "cell_type": "code",
   "execution_count": null,
   "metadata": {},
   "outputs": [],
   "source": [
    "titles_imdb_with_scores.to_csv('titles_imdb_with_scores.csv', sep=';', index = False, encoding = 'utf-8-sig')"
   ]
  },
  {
   "cell_type": "code",
   "execution_count": null,
   "metadata": {},
   "outputs": [],
   "source": [
    "titles_imdb_with_scores = pd.read_csv('titles_imdb_with_scores.csv', sep=';')\n",
    "titles_imdb_with_scores"
   ]
  },
  {
   "cell_type": "code",
   "execution_count": null,
   "metadata": {},
   "outputs": [],
   "source": [
    "titles_imdb_with_scores[titles_imdb_with_scores.duplicated(subset=['originalTitle', 'startYear'], keep=False)].sort_values(by='originalTitle')"
   ]
  },
  {
   "cell_type": "code",
   "execution_count": null,
   "metadata": {},
   "outputs": [],
   "source": [
    "titles_imdb_with_scores[titles_imdb_with_scores.duplicated(subset='originalTitle', keep=False)].sort_values(by='originalTitle')"
   ]
  },
  {
   "cell_type": "code",
   "execution_count": null,
   "metadata": {},
   "outputs": [],
   "source": []
  },
  {
   "cell_type": "code",
   "execution_count": null,
   "metadata": {},
   "outputs": [],
   "source": [
    "n = 1\n",
    "for i in df[df.average_rating.isna()].index:\n",
    "    print(round(n/len(df) * 100, 2), '%')\n",
    "    n += 1\n",
    "    title = df.title[i]\n",
    "    year = df.startYear[i]\n",
    "    id_imdb = titles_imdb_with_scores.query('originalTitle == @title | primaryTitle == @title & startYear == @year')['tconst'].values\n",
    "    if len(id_imdb) > 1:\n",
    "        tconst_amb = []\n",
    "        for j in range(len(id_imdb)):\n",
    "            tconst_amb.append({title: id_imdb[j]})\n",
    "    if len(id_imdb) == 1:\n",
    "        id_score = titles_imdb_with_scores[titles_imdb_with_scores.tconst == id_imdb[0]].index[0]\n",
    "        df.average_rating[i] = titles_imdb_with_scores.averageRating[id_score]"
   ]
  },
  {
   "cell_type": "code",
   "execution_count": null,
   "metadata": {},
   "outputs": [],
   "source": [
    "tconst_amb"
   ]
  },
  {
   "cell_type": "code",
   "execution_count": null,
   "metadata": {},
   "outputs": [],
   "source": [
    "df[df.title == 'Witness']"
   ]
  },
  {
   "cell_type": "code",
   "execution_count": null,
   "metadata": {},
   "outputs": [],
   "source": [
    "titles_imdb_with_scores[titles_imdb_with_scores.originalTitle == 'Witness']"
   ]
  },
  {
   "cell_type": "code",
   "execution_count": null,
   "metadata": {},
   "outputs": [],
   "source": [
    "df.dropna(subset='average_rating', inplace=True)"
   ]
  },
  {
   "cell_type": "code",
   "execution_count": null,
   "metadata": {},
   "outputs": [],
   "source": [
    "df = df[df.average_rating != ' ']"
   ]
  },
  {
   "cell_type": "code",
   "execution_count": null,
   "metadata": {},
   "outputs": [],
   "source": [
    "df.average_rating = df.average_rating.astype('float')\n",
    "df.average_rating"
   ]
  },
  {
   "cell_type": "code",
   "execution_count": null,
   "metadata": {},
   "outputs": [],
   "source": [
    "df.title = df.title.apply(lambda x: x.title())"
   ]
  },
  {
   "cell_type": "code",
   "execution_count": null,
   "metadata": {
    "colab": {
     "base_uri": "https://localhost:8080/"
    },
    "id": "7SGr5X_1Y781",
    "outputId": "e5439f07-41f3-443d-caba-716fefcdea08"
   },
   "outputs": [],
   "source": [
    "# Handling duplicate values\n",
    "df.duplicated().sum()"
   ]
  },
  {
   "cell_type": "code",
   "execution_count": null,
   "metadata": {
    "id": "V9bK2kxWY789"
   },
   "outputs": [],
   "source": [
    "df.drop_duplicates(inplace=True)"
   ]
  },
  {
   "cell_type": "code",
   "execution_count": null,
   "metadata": {},
   "outputs": [],
   "source": [
    "df[df.duplicated(subset=['description', 'streaming'], keep=False)].sort_values(by='title')"
   ]
  },
  {
   "cell_type": "code",
   "execution_count": null,
   "metadata": {},
   "outputs": [],
   "source": [
    "df.drop_duplicates(subset=['description', 'streaming'], inplace=True)"
   ]
  },
  {
   "cell_type": "code",
   "execution_count": null,
   "metadata": {
    "id": "U9RX8ZX0DI3P"
   },
   "outputs": [],
   "source": [
    "# Resetting the index to avoid problems with algorithm results\n",
    "df.reset_index(inplace=True)\n",
    "df.drop(columns='index', inplace=True)"
   ]
  },
  {
   "cell_type": "code",
   "execution_count": null,
   "metadata": {
    "colab": {
     "base_uri": "https://localhost:8080/",
     "height": 1000
    },
    "id": "0yT5_CffY789",
    "outputId": "60dc0ead-9dc5-451a-b3b5-4d43d4e34374"
   },
   "outputs": [],
   "source": [
    "# Noise in description\n",
    "smalls_descrip = []\n",
    "for i in df.index:\n",
    "    if len(df.description[i]) < 20:\n",
    "        smalls_descrip.append(i)\n",
    "df.loc[smalls_descrip]"
   ]
  },
  {
   "cell_type": "code",
   "execution_count": null,
   "metadata": {},
   "outputs": [],
   "source": [
    "df.description[5593] = 'A mob enforcers son in 1930s Illinois witnesses a murder, forcing him and his father to take to the road, and his father down a path of redemption and revenge.'"
   ]
  },
  {
   "cell_type": "code",
   "execution_count": null,
   "metadata": {},
   "outputs": [],
   "source": [
    "df.description[10420] = 'An aspiring fashion designer is mysteriously able to enter the 1960s where she encounters a dazzling wannabe singer. But the glamour is not all it appears to be and the dreams of the past start to crack and splinter into something darker.'"
   ]
  },
  {
   "cell_type": "code",
   "execution_count": null,
   "metadata": {},
   "outputs": [],
   "source": [
    "df.description[12263] = 'A young man is determined to solve an unspeakable crime and absolve the people he loves, while looking for answers within his fractured family and community.'"
   ]
  },
  {
   "cell_type": "code",
   "execution_count": null,
   "metadata": {
    "colab": {
     "base_uri": "https://localhost:8080/",
     "height": 1000
    },
    "id": "myFyoEYjOC9r",
    "outputId": "9d905e59-22e8-43da-8987-8b8fe266469b"
   },
   "outputs": [],
   "source": [
    "# Development remains in the description\n",
    "df[df.description.apply(lambda x: 'Test' in x)]"
   ]
  },
  {
   "cell_type": "code",
   "execution_count": null,
   "metadata": {
    "colab": {
     "base_uri": "https://localhost:8080/"
    },
    "id": "Q37a1Rf1CZwV",
    "outputId": "e36f9dad-1308-49b5-d973-eb0cf71e821a"
   },
   "outputs": [],
   "source": [
    "df.info()"
   ]
  },
  {
   "cell_type": "code",
   "execution_count": null,
   "metadata": {},
   "outputs": [],
   "source": [
    "df.genre = df.genre.apply(lambda x: str(x).strip('[]'))"
   ]
  },
  {
   "cell_type": "code",
   "execution_count": null,
   "metadata": {
    "id": "197HPrvfGORC"
   },
   "outputs": [],
   "source": [
    "# Creating some new columns to help the prediction algorithm.\n",
    "ratings_ages = {\n",
    "    'TV-PG': 'Older Kids',\n",
    "    'TV-MA': 'Adults',\n",
    "    'TV-Y7-FV': 'Older Kids',\n",
    "    'TV-Y7': 'Older Kids',\n",
    "    'TV-14': 'Teens',\n",
    "    'R': 'Adults',\n",
    "    'TV-Y': 'Little Kids',\n",
    "    'NR': 'Adults',\n",
    "    'PG-13': 'Teens',\n",
    "    'TV-G': 'Little Kids',\n",
    "    'PG': 'Older Kids',\n",
    "    'G': 'Little Kids',\n",
    "    'UR': 'Adults',\n",
    "    'NC-17': 'Adults',\n",
    "    '7+' : 'Older Kids',\n",
    "    '16+': 'Adults',\n",
    "    '18+': 'Adults',\n",
    "    '13+': 'Teens',\n",
    "    'UNRATED': ' ',\n",
    "    'NOT RATED': ' ',\n",
    "    'ALL': 'ALL AGES',\n",
    "    'ALL_AGES': 'AL AGES',\n",
    "    'TV-NR': 'Adults',\n",
    "    'AGES_18_': 'Adults',\n",
    "}\n",
    "df[\"parental_guidelines\"]= df[\"parental_guidelines\"].replace(ratings_ages)"
   ]
  },
  {
   "cell_type": "code",
   "execution_count": null,
   "metadata": {},
   "outputs": [],
   "source": [
    "df['genre_and_description'] = df.genre + ', ' + df.description"
   ]
  },
  {
   "cell_type": "code",
   "execution_count": null,
   "metadata": {},
   "outputs": [],
   "source": [
    "df.to_csv('df_prepared_recomendation_plus.csv', sep=';', index = False, encoding = 'utf-8-sig')"
   ]
  }
 ],
 "metadata": {
  "colab": {
   "name": "Recommendation System.ipynb",
   "provenance": []
  },
  "kernelspec": {
   "display_name": "Python 3 (ipykernel)",
   "language": "python",
   "name": "python3"
  },
  "language_info": {
   "codemirror_mode": {
    "name": "ipython",
    "version": 3
   },
   "file_extension": ".py",
   "mimetype": "text/x-python",
   "name": "python",
   "nbconvert_exporter": "python",
   "pygments_lexer": "ipython3",
   "version": "3.9.12"
  }
 },
 "nbformat": 4,
 "nbformat_minor": 1
}
